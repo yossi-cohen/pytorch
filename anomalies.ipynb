{
 "cells": [
  {
   "cell_type": "code",
   "execution_count": 114,
   "metadata": {},
   "outputs": [],
   "source": [
    "import os\n",
    "import glob\n",
    "from pathlib import Path\n",
    "import torch\n",
    "import numpy as np\n",
    "import pandas as pd\n",
    "import matplotlib.pyplot as plt\n",
    "#%matplotlib inline\n",
    "plt.ion()   # interactive mode\n",
    "from torch.utils.data import Dataset, DataLoader"
   ]
  },
  {
   "cell_type": "code",
   "execution_count": 115,
   "metadata": {},
   "outputs": [],
   "source": [
    "class InputDataset(Dataset):\n",
    "    def __init__(self, data_dir = 'data'):\n",
    "        \"\"\"\n",
    "        Args: data_dir (string): data dir containing numeric and categorical csvs.\n",
    "        \"\"\"\n",
    "        \n",
    "        # check data_dir exists\n",
    "        if not (Path(data_dir)).exists():\n",
    "            raise FileNotFoundError('dir not found: {}'.format(data_dir))\n",
    "        \n",
    "        self.df = pd.DataFrame()\n",
    "        \n",
    "        self.filenames = []\n",
    "        self.dfs = []\n",
    "        \n",
    "        self.read_csvs(data_dir + '/numeric')\n",
    "        self.read_csvs(data_dir + '/categorical')\n",
    "        \n",
    "        self.merge_data()\n",
    "    \n",
    "    def read_csvs(self, data_dir):\n",
    "        # check data_dir exists\n",
    "        if not (Path(data_dir)).exists():\n",
    "            raise FileNotFoundError('dir not found: {}'.format(data_dir))\n",
    "\n",
    "        # read csvs into dataframes\n",
    "        dfs = []\n",
    "        names = []\n",
    "        filenames = glob.glob(data_dir + '/*.csv')\n",
    "        for f in filenames:\n",
    "            df = pd.read_csv(f, header=None)\n",
    "            self.dfs.append(df)\n",
    "            self.filenames.append(f)\n",
    "    \n",
    "    def merge_data(self):\n",
    "        pass\n",
    "        \n",
    "    def __len__(self):\n",
    "        _len = 0\n",
    "        for df in self.dfs:\n",
    "            _len += len(df)\n",
    "        return _len\n",
    "    \n",
    "    def __getitem__(self, idx):\n",
    "        return None\n",
    "        "
   ]
  },
  {
   "cell_type": "code",
   "execution_count": 119,
   "metadata": {},
   "outputs": [
    {
     "name": "stdout",
     "output_type": "stream",
     "text": [
      "len: 15\n"
     ]
    }
   ],
   "source": [
    "ds = InputDataset()\n",
    "print('len:', len(ds))\n",
    "# for f, df in zip(ds.filenames, ds.dfs):\n",
    "#     print(f)\n",
    "#     print(df)\n"
   ]
  },
  {
   "cell_type": "code",
   "execution_count": 124,
   "metadata": {},
   "outputs": [
    {
     "name": "stdout",
     "output_type": "stream",
     "text": [
      "3\n"
     ]
    },
    {
     "data": {
      "text/plain": [
       "0      4.0\n",
       "1      3.0\n",
       "2      4.0\n",
       "3      5.0\n",
       "4      6.0\n",
       "5      7.0\n",
       "6      8.0\n",
       "7      9.0\n",
       "8     10.0\n",
       "9     11.0\n",
       "10    12.0\n",
       "11    13.0\n",
       "12    14.0\n",
       "13    15.0\n",
       "14    16.0\n",
       "15    17.0\n",
       "16    18.0\n",
       "17    19.0\n",
       "18    20.0\n",
       "19    21.0\n",
       "20    22.0\n",
       "21    23.0\n",
       "22    24.0\n",
       "23    26.0\n",
       "24    27.0\n",
       "25     NaN\n",
       "Name: 0, dtype: float64"
      ]
     },
     "execution_count": 124,
     "metadata": {},
     "output_type": "execute_result"
    }
   ],
   "source": [
    "df = pd.read_csv('data/numeric/n1.csv', header=None)\n",
    "print(len(df))\n",
    "df.iloc[0]"
   ]
  }
 ],
 "metadata": {
  "kernelspec": {
   "display_name": "Python 3",
   "language": "python",
   "name": "python3"
  },
  "language_info": {
   "codemirror_mode": {
    "name": "ipython",
    "version": 3
   },
   "file_extension": ".py",
   "mimetype": "text/x-python",
   "name": "python",
   "nbconvert_exporter": "python",
   "pygments_lexer": "ipython3",
   "version": "3.6.8"
  }
 },
 "nbformat": 4,
 "nbformat_minor": 2
}
