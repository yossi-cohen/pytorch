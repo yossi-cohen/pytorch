{
 "cells": [
  {
   "cell_type": "code",
   "execution_count": 1,
   "metadata": {},
   "outputs": [],
   "source": [
    "import os\n",
    "import glob\n",
    "from pathlib import Path\n",
    "import torch\n",
    "import numpy as np\n",
    "import pandas as pd\n",
    "import matplotlib.pyplot as plt\n",
    "#%matplotlib inline\n",
    "plt.ion()   # interactive mode\n",
    "from torch.utils.data import Dataset, DataLoader"
   ]
  },
  {
   "cell_type": "code",
   "execution_count": 152,
   "metadata": {},
   "outputs": [],
   "source": [
    "import numpy as np\n",
    "def gen_random_data(feature_name, num_rows, num_cols, categiries = None):\n",
    "    mat = np.random.rand(num_rows,num_cols)\n",
    "    mat = np.around(mat, decimals=3)\n",
    "    np.savetxt('data/numeric/{}.csv'.format(feature_name), mat, delimiter=',')\n",
    "gen_random_data('n4', 1000, 1300)"
   ]
  },
  {
   "cell_type": "code",
   "execution_count": 174,
   "metadata": {
    "scrolled": true
   },
   "outputs": [
    {
     "name": "stdout",
     "output_type": "stream",
     "text": [
      "(1300000, 4)\n"
     ]
    },
    {
     "data": {
      "text/html": [
       "<div>\n",
       "<style scoped>\n",
       "    .dataframe tbody tr th:only-of-type {\n",
       "        vertical-align: middle;\n",
       "    }\n",
       "\n",
       "    .dataframe tbody tr th {\n",
       "        vertical-align: top;\n",
       "    }\n",
       "\n",
       "    .dataframe thead th {\n",
       "        text-align: right;\n",
       "    }\n",
       "</style>\n",
       "<table border=\"1\" class=\"dataframe\">\n",
       "  <thead>\n",
       "    <tr style=\"text-align: right;\">\n",
       "      <th></th>\n",
       "      <th>n3</th>\n",
       "      <th>n1</th>\n",
       "      <th>n4</th>\n",
       "      <th>n2</th>\n",
       "    </tr>\n",
       "  </thead>\n",
       "  <tbody>\n",
       "    <tr>\n",
       "      <th>0</th>\n",
       "      <td>7.0</td>\n",
       "      <td>4.0</td>\n",
       "      <td>0.696</td>\n",
       "      <td>4.0</td>\n",
       "    </tr>\n",
       "    <tr>\n",
       "      <th>1</th>\n",
       "      <td>1.0</td>\n",
       "      <td>3.0</td>\n",
       "      <td>0.243</td>\n",
       "      <td>1.0</td>\n",
       "    </tr>\n",
       "    <tr>\n",
       "      <th>2</th>\n",
       "      <td>3.0</td>\n",
       "      <td>4.0</td>\n",
       "      <td>0.620</td>\n",
       "      <td>2.0</td>\n",
       "    </tr>\n",
       "    <tr>\n",
       "      <th>3</th>\n",
       "      <td>4.0</td>\n",
       "      <td>5.0</td>\n",
       "      <td>0.307</td>\n",
       "      <td>3.0</td>\n",
       "    </tr>\n",
       "    <tr>\n",
       "      <th>4</th>\n",
       "      <td>5.0</td>\n",
       "      <td>6.0</td>\n",
       "      <td>0.888</td>\n",
       "      <td>4.0</td>\n",
       "    </tr>\n",
       "  </tbody>\n",
       "</table>\n",
       "</div>"
      ],
      "text/plain": [
       "    n3   n1     n4   n2\n",
       "0  7.0  4.0  0.696  4.0\n",
       "1  1.0  3.0  0.243  1.0\n",
       "2  3.0  4.0  0.620  2.0\n",
       "3  4.0  5.0  0.307  3.0\n",
       "4  5.0  6.0  0.888  4.0"
      ]
     },
     "execution_count": 174,
     "metadata": {},
     "output_type": "execute_result"
    }
   ],
   "source": [
    "class InputDataset(Dataset):\n",
    "    def __init__(self, data_dir = 'data'):\n",
    "        \"\"\"\n",
    "        Args: data_dir (string): data dir containing numeric and categorical csvs.\n",
    "        \"\"\"\n",
    "        # check data_dir exists\n",
    "        if not (Path(data_dir)).exists():\n",
    "            raise FileNotFoundError('directory not found: \"{}\"'.format(data_dir))\n",
    "\n",
    "        # this is the main dataframe which will hold all the features\n",
    "        self.df = pd.DataFrame()\n",
    "        \n",
    "        # read numeric csvs\n",
    "        numeric_data_dir = data_dir + '/numeric'\n",
    "        if not (Path(numeric_data_dir)).exists():\n",
    "            raise FileNotFoundError(\"expected 'numeric' direcroty not found under: '{}'\".format(data_dir))\n",
    "        for f in glob.glob(numeric_data_dir + '/*.csv'):\n",
    "            df = pd.read_csv(f, header=None)\n",
    "            self.create_numeric_feature(f, df)\n",
    "        \n",
    "        # read categorical csvs\n",
    "        categorical_data_dir = data_dir + '/categorical'\n",
    "        if not (Path(categorical_data_dir)).exists():\n",
    "            raise FileNotFoundError(\"expected 'categorical' direcroty not found under: '{}'\".format(data_dir))\n",
    "        for f in glob.glob(categorical_data_dir + '/*.csv'):\n",
    "            df = pd.read_csv(f, header=None)\n",
    "            self.create_categorical_feature(f, df)\n",
    "    \n",
    "    def __len__(self):\n",
    "        return len(self.df.index)\n",
    "    \n",
    "    def __getitem__(self, idx):\n",
    "        return self.df.iloc[idx]\n",
    "\n",
    "    def create_numeric_feature(self, f, df):\n",
    "        '''\n",
    "        concatinate rows to form a single column vector\n",
    "        '''\n",
    "        # feature name == filename (without ext)\n",
    "        feature_name = os.path.splitext(os.path.basename(f))[0]\n",
    "        \n",
    "        values = []\n",
    "        df_tmp = pd.DataFrame()\n",
    "        for i in range(len(df.index)):\n",
    "            values.extend(df.iloc[i].values)\n",
    "        df_tmp[feature_name] = pd.Series(values)\n",
    "        self.df = pd.concat([self.df, df_tmp], axis=1)\n",
    "        \n",
    "    def create_categorical_feature(self, f, df):\n",
    "        # feature name\n",
    "        name = os.path.splitext(os.path.basename(f))[0]\n",
    "        \n",
    "ds = InputDataset()\n",
    "print(ds.df.shape)\n",
    "ds.df.head()"
   ]
  },
  {
   "cell_type": "code",
   "execution_count": 167,
   "metadata": {},
   "outputs": [],
   "source": [
    "# df = pd.read_csv('data/numeric/n4.csv', header=None)\n",
    "# print(df.shape)\n",
    "# df.head()"
   ]
  }
 ],
 "metadata": {
  "kernelspec": {
   "display_name": "Python 3",
   "language": "python",
   "name": "python3"
  },
  "language_info": {
   "codemirror_mode": {
    "name": "ipython",
    "version": 3
   },
   "file_extension": ".py",
   "mimetype": "text/x-python",
   "name": "python",
   "nbconvert_exporter": "python",
   "pygments_lexer": "ipython3",
   "version": "3.6.7"
  },
  "latex_envs": {
   "LaTeX_envs_menu_present": true,
   "autoclose": false,
   "autocomplete": true,
   "bibliofile": "biblio.bib",
   "cite_by": "apalike",
   "current_citInitial": 1,
   "eqLabelWithNumbers": true,
   "eqNumInitial": 1,
   "hotkeys": {
    "equation": "Ctrl-E",
    "itemize": "Ctrl-I"
   },
   "labels_anchors": false,
   "latex_user_defs": false,
   "report_style_numbering": false,
   "user_envs_cfg": false
  }
 },
 "nbformat": 4,
 "nbformat_minor": 2
}
